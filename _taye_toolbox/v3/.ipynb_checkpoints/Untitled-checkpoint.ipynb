{
 "cells": [
  {
   "cell_type": "code",
   "execution_count": 1,
   "id": "da7bdca5-2231-44c9-ab3f-dec412ed75d1",
   "metadata": {},
   "outputs": [],
   "source": [
    "import numpy as np\n",
    "import pandas as pd"
   ]
  },
  {
   "cell_type": "code",
   "execution_count": 20,
   "id": "d84c1c92-c6dd-4a29-a94a-6c4a2c368e40",
   "metadata": {},
   "outputs": [],
   "source": [
    "def read_csv(filename):\n",
    "    \"\"\"Read a CSV file\"\"\"\n",
    "    data = pd.read_csv(filename, encoding='utf-8')\n",
    "    return data\n",
    "\n",
    "filename = (f\"SA_questions.csv\")\n",
    "data = read_csv(filename)"
   ]
  },
  {
   "cell_type": "code",
   "execution_count": 21,
   "id": "3bef4d6f-cd74-4329-9ebe-422cc9f96293",
   "metadata": {},
   "outputs": [],
   "source": [
    "# data.head()"
   ]
  },
  {
   "cell_type": "code",
   "execution_count": 22,
   "id": "634393dc-b83c-4376-bcc9-822d2a1f741f",
   "metadata": {},
   "outputs": [
    {
     "name": "stdout",
     "output_type": "stream",
     "text": [
      "[0.325, 0.33799999999999997, 0.38, 0.4, 0.419, 0.426, 0.43, 0.442, 0.452, nan, 0.45899999999999996, 0.466, nan, nan, nan, 0.475, 0.48700000000000004, nan, nan, 0.499, nan, nan, 0.5, 0.509, 0.514, nan, nan, 0.52, 0.537, 0.5489999999999999, 0.551, 0.552, 0.556, 0.56, 0.563, 0.5710000000000001, 0.581, 0.581, 0.589, 0.59, 0.597, 0.603, 0.603, 0.603, nan, nan, nan, nan, nan, nan, nan, nan, nan, 0.604, 0.606, 0.607, 0.608, 0.615, 0.615, 0.618, 0.619, 0.62, 0.621, 0.623, 0.624, 0.637, 0.64, 0.64, 0.6409999999999999, 0.643, nan, nan, 0.647, 0.649, 0.65, 0.65, 0.653, 0.657, 0.659, nan, nan, nan, nan, 0.66, 0.662, 0.6629999999999999, 0.664, 0.667, nan, nan, nan, 0.667, 0.667, 0.672, 0.672, 0.674, 0.6759999999999999, 0.6779999999999999, 0.679, nan, nan, 0.679, 0.685, nan, nan, 0.687, 0.688, 0.6920000000000001, 0.6940000000000001, 0.695, 0.6970000000000001, 0.698, 0.698, 0.7, 0.7020000000000001, 0.7040000000000001, 0.705, 0.7070000000000001, nan, 0.711, 0.713, 0.7140000000000001, 0.7140000000000001, 0.715, 0.7170000000000001, 0.718, 0.722, nan, nan, 0.722, 0.7290000000000001, 0.73, 0.73, 0.732, 0.733, 0.7340000000000001, 0.736, 0.741, 0.742, 0.742, 0.746, 0.75, 0.75, 0.752, 0.7559999999999999, 0.7559999999999999, 0.76, 0.7609999999999999, 0.762, 0.762, 0.763, 0.765, 0.77, 0.772, 0.772, 0.773, 0.774, 0.778, 0.784, 0.785, 0.7859999999999999, 0.7859999999999999, 0.7909999999999999, 0.8, 0.8, 0.8, 0.802, 0.8029999999999999, 0.804, 0.8059999999999999, 0.8059999999999999, nan, nan, nan, nan, 0.8059999999999999, 0.8109999999999999, 0.813, 0.8140000000000001, 0.8140000000000001, 0.815, 0.815, 0.816, 0.816, 0.8190000000000001, 0.82, 0.821, 0.821, 0.8240000000000001, nan, nan, nan, 0.825, 0.828, 0.833, 0.833, 0.835, 0.835, 0.835, 0.835, 0.8370000000000001, 0.838, 0.8390000000000001, 0.8390000000000001, 0.8420000000000001, 0.8440000000000001, 0.845, 0.846, 0.846, 0.847, 0.847, 0.8490000000000001, 0.851, 0.855, 0.858, nan, nan, nan, 0.8590000000000001, 0.863, 0.863, 0.865, 0.866, 0.868, 0.8690000000000001, 0.873, 0.875, 0.8759999999999999, 0.879, 0.882, 0.882, 0.884, 0.8859999999999999, 0.888, 0.888, 0.8909999999999999, 0.8909999999999999, 0.8959999999999999, 0.897, 0.898, 0.899, 0.907, 0.9079999999999999, 0.91, 0.912, 0.912, 0.917, 0.92, nan, nan, nan, nan]\n"
     ]
    }
   ],
   "source": [
    "def get_scores(data):\n",
    "    \"\"\"Get the scores from the data\"\"\"\n",
    "    scores = data[\"avg_correct\"]\n",
    "    scores_series = pd.Series(scores)\n",
    "    scores_float = scores_series.str.rstrip('%').astype('float') / 100.0\n",
    "    scores_list = scores_float.tolist()\n",
    "    return scores_list\n",
    "\n",
    "scores = get_scores(data)\n",
    "print(scores)"
   ]
  },
  {
   "cell_type": "code",
   "execution_count": 23,
   "id": "531b7998-90df-4eb2-bdcf-c997f337178f",
   "metadata": {},
   "outputs": [
    {
     "name": "stdout",
     "output_type": "stream",
     "text": [
      "Q1: 0.645, Q2: 0.736, Q3: 0.8305, Q4:0.92\n"
     ]
    }
   ],
   "source": [
    "def get_quartiles(_scores):\n",
    "    # Ensure the data is a numpy array\n",
    "    data = np.array(pd.to_numeric(_scores, errors='coerce'))\n",
    "    # print(data)\n",
    "    # Handle NaN values\n",
    "    data = data[~np.isnan(data)]\n",
    "    # Calculate quartiles\n",
    "    Q1 = np.percentile(data, 25)\n",
    "    Q2 = np.percentile(data, 50)\n",
    "    Q3 = np.percentile(data, 75)\n",
    "    Q4 = np.percentile(data, 100)\n",
    "    return Q1, Q2, Q3, Q4\n",
    "\n",
    "Q1, Q2, Q3, Q4 = get_quartiles(scores)\n",
    "print(f\"Q1: {Q1}, Q2: {Q2}, Q3: {Q3}, Q4:{Q4}\")"
   ]
  },
  {
   "cell_type": "code",
   "execution_count": 27,
   "id": "eb02959f-1cb1-4593-8ec8-86278413656b",
   "metadata": {},
   "outputs": [
    {
     "name": "stdout",
     "output_type": "stream",
     "text": [
      "_1:0.5512, _2:0.6184, _3:0.6636, _4:0.6996, _5:0.736, _6:0.7747999999999999, _7:0.815, _8:0.8408000000000001, _9:0.8757999999999999, _10:0.92\n"
     ]
    }
   ],
   "source": [
    "def get_tenths(_scores):\n",
    "    # Ensure the data is a numpy array\n",
    "    data = np.array(pd.to_numeric(_scores, errors='coerce'))\n",
    "    # print(data)\n",
    "    # Handle NaN values\n",
    "    data = data[~np.isnan(data)]\n",
    "    # Calculate quartiles\n",
    "    _1 = np.percentile(data, 10)\n",
    "    _2 = np.percentile(data, 20)\n",
    "    _3 = np.percentile(data, 30)\n",
    "    _4 = np.percentile(data, 40)\n",
    "    _5 = np.percentile(data, 50)\n",
    "    _6 = np.percentile(data, 60)\n",
    "    _7 = np.percentile(data, 70)\n",
    "    _8 = np.percentile(data, 80)\n",
    "    _9 = np.percentile(data, 90)\n",
    "    _10 = np.percentile(data, 100)\n",
    "    return _1, _2, _3, _4, _5, _6, _7, _8, _9, _10\n",
    "    \n",
    "# _2, _4, _6, _8, _10 = get_tenths(scores)\n",
    "# print(f\"_2:{_2}, _4:{_4}, _6:{_6}, _8:{_8}, _10:{_10}\")\n",
    "\n",
    "_1, _2, _3, _4, _5, _6, _7, _8, _9, _10 = get_tenths(scores)\n",
    "for itm in get_tenths(scores):\n",
    "    print(f\"\\n{item}\")\n",
    "# print(f\"_1:{_1}, _2:{_2}, _3:{_3}, _4:{_4}, _5:{_5}, _6:{_6}, _7:{_7}, _8:{_8}, _9:{_9}, _10:{_10}\")"
   ]
  },
  {
   "cell_type": "markdown",
   "id": "9d928faf-0cb4-4328-bf3a-1ab106d98f83",
   "metadata": {},
   "source": [
    "_1:0.5512\n",
    ", _2:0.6184\n",
    ", _3:0.6636\n",
    ", _4:0.6996\n",
    ", _5:0.736\n",
    ", _6:0.7747999999999999\n",
    ", _7:0.815\n",
    ", _8:0.8408000000000001\n",
    ", _9:0.8757999999999999\n",
    ", _10:0.92"
   ]
  },
  {
   "cell_type": "code",
   "execution_count": null,
   "id": "ca41cf9c-224b-4301-8c54-282e67598cf4",
   "metadata": {},
   "outputs": [],
   "source": []
  },
  {
   "cell_type": "code",
   "execution_count": 18,
   "id": "88b4dfe0-683b-4e35-9a0e-f0eca4784256",
   "metadata": {},
   "outputs": [],
   "source": [
    "# import matplotlib.pyplot as plt\n",
    "\n",
    "# plt.boxplot(scores, vert=False)\n",
    "# plt.title('Boxplot of Scores')\n",
    "# plt.xlabel('Scores')\n",
    "# plt.show()"
   ]
  },
  {
   "cell_type": "code",
   "execution_count": 17,
   "id": "700eb422-d2ec-4a62-959f-92a266c7ffac",
   "metadata": {},
   "outputs": [],
   "source": [
    "# import matplotlib.pyplot as plt\n",
    "\n",
    "# # Assuming scores is your data\n",
    "# scores = [1, 2, 3, 4, 5, 6, 7, 8, 9, 10]\n",
    "\n",
    "# plt.boxplot(scores, vert=False)\n",
    "# plt.title('Boxplot of Scores')\n",
    "# plt.xlabel('Scores')\n",
    "# plt.show()"
   ]
  },
  {
   "cell_type": "code",
   "execution_count": null,
   "id": "c6c28e7b-bc81-490f-a1a3-e72b4c58c04d",
   "metadata": {},
   "outputs": [],
   "source": []
  },
  {
   "cell_type": "code",
   "execution_count": null,
   "id": "d2c3e6dd-0495-4f46-9231-7fb1b4d93073",
   "metadata": {},
   "outputs": [],
   "source": []
  },
  {
   "cell_type": "code",
   "execution_count": null,
   "id": "d4c370bf-c2a2-4d1e-b01f-71c632610874",
   "metadata": {},
   "outputs": [],
   "source": [
    "# def get_csv_data(filename):\n",
    "#     \"\"\"Get the data from a CSV file\"\"\"\n",
    "#     data = np.genfromtxt(filename, delimiter=',')\n",
    "#     return data\n",
    "\n",
    "# def get_target_column(data, _col=\"avg_correct\"):\n",
    "#     \"\"\"Get the avg_score column from the data\"\"\"\n",
    "#     target = data[:, _col]\n",
    "#     return target\n",
    "\n",
    "\n",
    "\n",
    "def get_quartiles(_scores):\n",
    "    # Ensure the data is a numpy array\n",
    "    data = np.array(pd.to_numeric(_scores, errors='coerce'))\n",
    "    print(data)\n",
    "    # Handle NaN values\n",
    "    data = data[~np.isnan(data)]\n",
    "    # Calculate quartiles\n",
    "    Q1 = np.percentile(data, 25)\n",
    "    Q2 = np.percentile(data, 50)\n",
    "    Q3 = np.percentile(data, 75)"
   ]
  }
 ],
 "metadata": {
  "kernelspec": {
   "display_name": "Python 3 (ipykernel)",
   "language": "python",
   "name": "python3"
  },
  "language_info": {
   "codemirror_mode": {
    "name": "ipython",
    "version": 3
   },
   "file_extension": ".py",
   "mimetype": "text/x-python",
   "name": "python",
   "nbconvert_exporter": "python",
   "pygments_lexer": "ipython3",
   "version": "3.9.7"
  }
 },
 "nbformat": 4,
 "nbformat_minor": 5
}
